{
 "cells": [
  {
   "cell_type": "markdown",
   "id": "7f5b6f7f",
   "metadata": {},
   "source": [
    "# 주어진 텍스트 파일 및 PDF로 Vector DB 만들기"
   ]
  },
  {
   "cell_type": "markdown",
   "id": "a45716c9",
   "metadata": {},
   "source": [
    "### 이 코드 작동을 위해서는 PyPDF 및 ChromaDB가 설치되어 있어야 합니다."
   ]
  },
  {
   "cell_type": "code",
   "execution_count": 9,
   "id": "55a8dbf6",
   "metadata": {},
   "outputs": [
    {
     "data": {
      "text/plain": [
       "'/Users/heavenly/opt/anaconda3/envs/flask/bin/python'"
      ]
     },
     "execution_count": 9,
     "metadata": {},
     "output_type": "execute_result"
    }
   ],
   "source": [
    "import sys\n",
    "sys.executable"
   ]
  },
  {
   "cell_type": "markdown",
   "id": "86a70e95",
   "metadata": {},
   "source": [
    "# texts 폴더 내에서 PDF, text 파일 추출하기"
   ]
  },
  {
   "cell_type": "code",
   "execution_count": 10,
   "id": "08baf6a4",
   "metadata": {},
   "outputs": [],
   "source": [
    "from langchain.document_loaders import PyPDFLoader, DirectoryLoader, TextLoader\n",
    "from PyPDF2 import PdfReader\n",
    "import os"
   ]
  },
  {
   "cell_type": "code",
   "execution_count": 11,
   "id": "e815d2d3",
   "metadata": {},
   "outputs": [],
   "source": [
    "source_folder = './texts' # texts라는 폴더 안에 있는 파일을 분석하여 Text DB로 만들게 됨"
   ]
  },
  {
   "cell_type": "code",
   "execution_count": 12,
   "id": "a94a9bac",
   "metadata": {},
   "outputs": [],
   "source": [
    "# 폴더 내 모든 파일 리스트 가져오기\n",
    "pdf_list = []\n",
    "txt_list = []\n",
    "\n",
    "for root, dirs, files in os.walk(source_folder):\n",
    "    for file in files:\n",
    "        if file.endswith('.pdf'):\n",
    "            pdf_list.append(os.path.join(root, file))\n",
    "        elif file.endswith('.txt'):\n",
    "            txt_list.append(os.path.join(root, file))"
   ]
  },
  {
   "cell_type": "code",
   "execution_count": 13,
   "id": "10617e87",
   "metadata": {
    "scrolled": true
   },
   "outputs": [
    {
     "data": {
      "text/plain": [
       "3"
      ]
     },
     "execution_count": 13,
     "metadata": {},
     "output_type": "execute_result"
    }
   ],
   "source": [
    "len(pdf_list) # 전체 파일 갯수"
   ]
  },
  {
   "cell_type": "code",
   "execution_count": 14,
   "id": "5aebcbf7-9605-4d4c-a196-de0688cdb622",
   "metadata": {},
   "outputs": [
    {
     "data": {
      "text/plain": [
       "0"
      ]
     },
     "execution_count": 14,
     "metadata": {},
     "output_type": "execute_result"
    }
   ],
   "source": [
    "len(txt_list)"
   ]
  },
  {
   "cell_type": "code",
   "execution_count": 15,
   "id": "22715840-f4ad-42a5-ba80-e445aac1cab8",
   "metadata": {},
   "outputs": [],
   "source": [
    "documents = []"
   ]
  },
  {
   "cell_type": "code",
   "execution_count": 16,
   "id": "fd95795e",
   "metadata": {},
   "outputs": [
    {
     "name": "stdout",
     "output_type": "stream",
     "text": [
      "./texts/the feynman lectures on physics vol 3.pdf Loaded:::::\n",
      "./texts/the feynman lectures on physics vol 2.pdf Loaded:::::\n",
      "./texts/the feynman lectures on physics vol 1.pdf Loaded:::::\n"
     ]
    }
   ],
   "source": [
    "for name in pdf_list:\n",
    "    try:\n",
    "        print(f\"{name} Loaded:::::\")\n",
    "        reader = PyPDFLoader(name)\n",
    "        documents.extend(reader.load())\n",
    "    except:\n",
    "        print(f'Error occurred: {name}')\n",
    "        continue"
   ]
  },
  {
   "cell_type": "code",
   "execution_count": 17,
   "id": "97646580-42dc-451d-88ec-53ee4bf04a1c",
   "metadata": {},
   "outputs": [],
   "source": [
    "for name in txt_list:\n",
    "    try:\n",
    "        print(f\"{name} Loaded:::::\")\n",
    "        reader = TextLoader(name)\n",
    "        documents.extend(reader.load())\n",
    "    except:\n",
    "        print(f'Error occurred: {name}')\n",
    "        continue"
   ]
  },
  {
   "cell_type": "code",
   "execution_count": 18,
   "id": "37f44af1",
   "metadata": {},
   "outputs": [
    {
     "name": "stdout",
     "output_type": "stream",
     "text": [
      "You have 2222 document(s) in your data\n"
     ]
    }
   ],
   "source": [
    "print (f'You have {len(documents)} document(s) in your data')"
   ]
  },
  {
   "cell_type": "code",
   "execution_count": 19,
   "id": "0caa9c3b",
   "metadata": {},
   "outputs": [
    {
     "name": "stdout",
     "output_type": "stream",
     "text": [
      "2219\n"
     ]
    }
   ],
   "source": [
    "from langchain.text_splitter import CharacterTextSplitter\n",
    "\n",
    "text_splitter = CharacterTextSplitter(chunk_size=1000, chunk_overlap=100) #chunk overlap seems to work better\n",
    "documents2 = text_splitter.split_documents(documents)\n",
    "print(len(documents2))"
   ]
  },
  {
   "cell_type": "markdown",
   "id": "50983756-8201-4d5e-9148-b0415861f06a",
   "metadata": {},
   "source": [
    "# 1000개의 단어를 기준으로 나누고 벡터 DB 만들기"
   ]
  },
  {
   "cell_type": "code",
   "execution_count": 21,
   "id": "6d0d67ae",
   "metadata": {},
   "outputs": [],
   "source": [
    "from langchain.vectorstores import Chroma\n",
    "from langchain.embeddings.openai import OpenAIEmbeddings\n",
    "from chromadb.config import Settings\n",
    "import time"
   ]
  },
  {
   "cell_type": "code",
   "execution_count": 22,
   "id": "e177a0c6",
   "metadata": {},
   "outputs": [],
   "source": [
    "from dotenv import load_dotenv\n",
    "\n",
    "load_dotenv()\n",
    "\n",
    "OPENAI_API_KEY = os.getenv('OPENAI_API_KEY')"
   ]
  },
  {
   "cell_type": "code",
   "execution_count": 23,
   "id": "5ad951a1",
   "metadata": {},
   "outputs": [],
   "source": [
    "persist_directory = 'knowledge_db' # 최종적으로 생성된 결과를 저장하는 폴더\n",
    "embeddings = OpenAIEmbeddings(model='text-embedding-ada-002', openai_api_key=OPENAI_API_KEY, max_retries=20)"
   ]
  },
  {
   "cell_type": "code",
   "execution_count": 24,
   "id": "98079ecb",
   "metadata": {},
   "outputs": [],
   "source": [
    "i = 0"
   ]
  },
  {
   "cell_type": "code",
   "execution_count": 25,
   "id": "a7121c2b",
   "metadata": {},
   "outputs": [
    {
     "name": "stdin",
     "output_type": "stream",
     "text": [
      "Continue? y\n"
     ]
    },
    {
     "name": "stdout",
     "output_type": "stream",
     "text": [
      "finishing 1000\n"
     ]
    },
    {
     "name": "stdin",
     "output_type": "stream",
     "text": [
      "Continue? y\n"
     ]
    },
    {
     "name": "stdout",
     "output_type": "stream",
     "text": [
      "finishing 2000\n"
     ]
    },
    {
     "name": "stdin",
     "output_type": "stream",
     "text": [
      "Continue? y\n"
     ]
    },
    {
     "name": "stdout",
     "output_type": "stream",
     "text": [
      "finishing 3000\n"
     ]
    }
   ],
   "source": [
    "# 이렇게 코드를 구성한 이유는 한 번에 동작하다가 에러가 나면 처음부터 다시 해야 하는 문제를 피하기 위해서임.\n",
    "# 만약 중간에 에러가 나면 해당 인덱스(i)부터 다시 시작하면 됨.\n",
    "# 그 다음 계속 진행하려면 'y'라고 입력하도록 함.\n",
    "\n",
    "while i < len(documents):\n",
    "    size = i + 1000\n",
    "    docs = documents[i:size]\n",
    "    vectorstore = Chroma.from_documents(docs, embeddings, persist_directory=persist_directory)\n",
    "    answer = input('Continue?')\n",
    "\n",
    "    if (answer == 'y'):\n",
    "        vectorstore.persist()   \n",
    "        i = i + 1000\n",
    "        print('finishing', i)\n",
    "        time.sleep(2)\n",
    "    else:\n",
    "        print('aborted')\n",
    "        break"
   ]
  },
  {
   "cell_type": "code",
   "execution_count": 26,
   "id": "25abd49d",
   "metadata": {},
   "outputs": [],
   "source": [
    "vectorstore = None"
   ]
  }
 ],
 "metadata": {
  "kernelspec": {
   "display_name": "Python 3 (ipykernel)",
   "language": "python",
   "name": "python3"
  },
  "language_info": {
   "codemirror_mode": {
    "name": "ipython",
    "version": 3
   },
   "file_extension": ".py",
   "mimetype": "text/x-python",
   "name": "python",
   "nbconvert_exporter": "python",
   "pygments_lexer": "ipython3",
   "version": "3.10.13"
  }
 },
 "nbformat": 4,
 "nbformat_minor": 5
}
