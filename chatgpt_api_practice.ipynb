{
 "cells": [
  {
   "cell_type": "markdown",
   "id": "9e7947ef",
   "metadata": {},
   "source": [
    "# ChatGPT API 연습"
   ]
  },
  {
   "cell_type": "code",
   "execution_count": 1,
   "id": "58ab5b15",
   "metadata": {},
   "outputs": [],
   "source": [
    "import os\n",
    "import re\n",
    "import openai\n",
    "import markdown\n",
    "from getpass import getpass"
   ]
  },
  {
   "cell_type": "code",
   "execution_count": 7,
   "id": "c633abd2",
   "metadata": {},
   "outputs": [
    {
     "name": "stdout",
     "output_type": "stream",
     "text": [
      "your API Key(starting with sk-)········\n"
     ]
    }
   ],
   "source": [
    "OPENAI_API_KEY = getpass('your API Key(starting with sk-)')"
   ]
  },
  {
   "cell_type": "code",
   "execution_count": 8,
   "id": "2010ad33",
   "metadata": {},
   "outputs": [],
   "source": [
    "TEMPERATURE = 0.1\n",
    "MAX_TOKENS = 4096  # GPT-3.5의 최대 토큰 길이임(입력, 출력 동일함)\n",
    "MODEL = 'gpt-3.5-turbo-0613'\n",
    "openai.api_key = OPENAI_API_KEY\n",
    "context = []"
   ]
  },
  {
   "cell_type": "markdown",
   "id": "3ac1ef78",
   "metadata": {},
   "source": [
    "## 대화형 인공지능의 예시"
   ]
  },
  {
   "cell_type": "code",
   "execution_count": 9,
   "id": "aa6312c3",
   "metadata": {},
   "outputs": [],
   "source": [
    "def check_tokens(items):\n",
    "    cnt = 0\n",
    "\n",
    "    if items is None:\n",
    "        return cnt\n",
    "\n",
    "    for item in items:\n",
    "        cnt += len(item['content'])\n",
    "\n",
    "    return cnt\n",
    "\n",
    "def conversate():\n",
    "    while(1):\n",
    "        message = input('대화:')\n",
    "        message = message.strip()\n",
    "    \n",
    "        if message == '':\n",
    "            print('대화 내용을 입력하세요.')\n",
    "            continue\n",
    "        elif message == 'exit':\n",
    "            break\n",
    "    \n",
    "        # 대화 맥락을 고려하여 전체 최대 토큰을 초과하는지 체크하도록 한다.\n",
    "        total_cnt = check_tokens(context) + len(message)\n",
    "\n",
    "        if total_cnt >= MAX_TOKENS:\n",
    "            context.clear()\n",
    "            print('context cleared.')\n",
    "\n",
    "        # ChatGPT 대화를 위한 메시지 형태 설정하기\n",
    "        if len(context) == 0:\n",
    "            context.append({\"role\": \"system\", \"content\": \"You are a helpful assistant.\"})\n",
    "            context.append({\"role\": \"user\", \"content\": message})\n",
    "        else:\n",
    "            context.append({\"role\": \"user\", \"content\": message})\n",
    "\n",
    "        response = openai.ChatCompletion.create(model=MODEL, messages=context, temperature=TEMPERATURE)\n",
    "\n",
    "        answer = response['choices'][0]['message']['content']\n",
    "        print(f\"AI: {answer}\")\n",
    "        #codes = markdown.markdown(answer, extensions=['fenced_code', 'codehilite'])\n",
    "        context.append({'role': 'assistant', 'content': answer})\n",
    "\n",
    "        if check_tokens(context) >= MAX_TOKENS:\n",
    "            context.clear()"
   ]
  },
  {
   "cell_type": "code",
   "execution_count": 10,
   "id": "82e18f9d",
   "metadata": {},
   "outputs": [
    {
     "name": "stdout",
     "output_type": "stream",
     "text": [
      "대화:안녕\n",
      "AI: 안녕하세요! 도움이 필요하신가요?\n",
      "대화:반가워\n",
      "AI: 반가워요! 저는 여러분을 도와드릴 준비가 되어있습니다. 무엇을 도와드릴까요?\n",
      "대화:exit\n"
     ]
    }
   ],
   "source": [
    "conversate()"
   ]
  },
  {
   "cell_type": "markdown",
   "id": "1b1951c5",
   "metadata": {},
   "source": [
    "## 논증 분석을 위한 ChatGPT API 활용"
   ]
  },
  {
   "cell_type": "code",
   "execution_count": 11,
   "id": "c7a7ddb5",
   "metadata": {},
   "outputs": [],
   "source": [
    "query = '''\"보기\"는 학생이 작성한 글이야. 툴민의 논증(Toulmin's Argumentation Pattern)에 따라 글에 포함되어 있는 주장(claim), 반박(rebuttal), 자료(data), 보장(warrant), 뒷받침(backing), 제한 조건(qualifer)이 명시적으로 포함되어 있는지 확인하고 추출해. \n",
    "만약 관련된 요소가 글 속에 포함되어 있지 않다면 '없음'으로 표시해. \n",
    "논증 요소의 정의는 다음과 같아.\n",
    "주장(claim): Assertions about what exists or values that people hold. \n",
    "자료(data): Statements that are used as evidence to support the claim. \n",
    "보장(warrant): Statements that explain the relationship of the data to the claim. \n",
    "제한 조건(qualifier): Special conditions under which the claim holds true. \n",
    "뒷받침(backing): Underlying assumptions that are often not made explicit. \n",
    "반박(rebuttal): Statements that contradict either the data, warrant, backing or qualifier of an argument. \n",
    "또한 학생의 논증에 대한 점수을 0점에서 5점까지로 평가하려고 해. 평가한 결과에 대한 점수와 함께 글을 더 잘 쓸 수 있도록 쉽고 구체적으로 피드백을 줘.\n",
    "채점 기준은 다음과 같아.\n",
    "0점: Argumentation does not include anything of elements.\n",
    "1점: Argumentation consists of arguments that are a simple claim versus a counter-claim or a claim versus a claim.\n",
    "2점: Argumentation has arguments consisting of a claim versus a claim with either data, warrants, or backings but do not contain any rebuttals.\n",
    "3점: Argumentation has arguments with a series of claims or counterclaims with either data, warrants, or backings with the occasional weak rebuttal.\n",
    "4점: Argumentation shows arguments with a claim with a clearly identifiable rebuttal. Such an argument may have several claims and counterclaims as well.\n",
    "5점: Argumentation displays an extended argument with more than one rebuttal.\n",
    "수행한 결과를 다음과 같은 형식으로 한글로 반환해 줘.\n",
    "주장:{결과}\n",
    "반박:{결과}\n",
    "자료:{결과}\n",
    "보장:{결과}\n",
    "뒷받침:{결과}\n",
    "제한 조건:{결과}\n",
    "점수:{결과}\n",
    "피드백:{결과}\n",
    "보기:'''"
   ]
  },
  {
   "cell_type": "code",
   "execution_count": 12,
   "id": "015e691f",
   "metadata": {},
   "outputs": [],
   "source": [
    "elements = ['주장', '반박', '자료', '보장', '뒷받침', '제한 조건', '점수', '피드백']\n",
    "elements2 = ['claim', 'rebuttal', 'data', 'warrant', 'back', 'qualify', 'score', 'feedback']\n",
    "none_list = ['없습니다.', '없음.', '없습니다', '없음', '(없음)', '(없음.)', '(없음).', '(없습니다.)', '(없습니다)']\n",
    "\n",
    "def inspect_data(text):\n",
    "    is_first = True\n",
    "    \n",
    "    try:\n",
    "        text = text.strip()\n",
    "        print('Original:', text)\n",
    "        query_msg = query + text\n",
    "\n",
    "        # 메시지 설정하기\n",
    "        messages = [\n",
    "                {\"role\": \"system\", \"content\": \"You are a helpful assistant.\"},\n",
    "                {\"role\": \"user\", \"content\": query_msg}\n",
    "        ]\n",
    "\n",
    "        # ChatGPT API 호출하기\n",
    "        response = openai.ChatCompletion.create(model=MODEL, messages=messages, temperature=TEMPERATURE)\n",
    "        answer = response.choices[0].message['content']\n",
    "        answer = answer.strip()\n",
    "\n",
    "        print(answer)\n",
    "\n",
    "        arguments = {}\n",
    "\n",
    "        for item in elements:\n",
    "            arguments[item] = ''\n",
    "\n",
    "        current_key = None\n",
    "\n",
    "        for line in answer.split('\\n'):\n",
    "            line = line.strip()\n",
    "            line = line.strip('\\n')\n",
    "\n",
    "            if line:\n",
    "                if ':' in line:\n",
    "                    key, value = line.split(':', 1)\n",
    "                    current_key = key.strip()\n",
    "                    value = value.strip()\n",
    "                    value = value.strip('\\n')\n",
    "                    arguments[current_key] = value\n",
    "                else:\n",
    "                    arguments[current_key] += ' ' + line.strip()\n",
    "\n",
    "        for key, value in arguments.items():\n",
    "            for item in none_list:\n",
    "                if item in value:\n",
    "                    arguments[key] = ''\n",
    "                    break\n",
    "\n",
    "        updated_arguments = {}\n",
    "        for key, value in arguments.items():\n",
    "            for item in elements:\n",
    "                if item in key:\n",
    "                    new_key = item\n",
    "                    break\n",
    "                else:\n",
    "                    new_key = key\n",
    "\n",
    "            updated_arguments[new_key] = value\n",
    "\n",
    "        cleaned_arguments = {key.strip(\"[]\"): value for key, value in updated_arguments.items()}\n",
    "        if cleaned_arguments['점수'] == '':\n",
    "            cleaned_arguments['점수'] = 0\n",
    "        else:\n",
    "            cleaned_arguments['점수'] = int(re.sub(r'\\D', '', cleaned_arguments['점수']))\n",
    "\n",
    "        for i in range(len(elements)):\n",
    "            cleaned_arguments[elements2[i]] = cleaned_arguments.pop(elements[i])\n",
    "\n",
    "    except openai.error.APIError as e:\n",
    "        #Handle API error here, e.g. retry or log\n",
    "        print(f\"OpenAI API returned an API Error: {e}\")\n",
    "        \n",
    "    except openai.error.APIConnectionError as e:\n",
    "        #Handle connection error here\n",
    "        print(f\"Failed to connect to OpenAI API: {e}\")\n",
    "        \n",
    "    except openai.error.RateLimitError as e:\n",
    "        #Handle rate limit error (we recommend using exponential backoff)\n",
    "        print(f\"OpenAI API request exceeded rate limit: {e}\")\n",
    "    \n",
    "    return cleaned_arguments"
   ]
  },
  {
   "cell_type": "code",
   "execution_count": 13,
   "id": "b51ce3d0",
   "metadata": {},
   "outputs": [],
   "source": [
    "sents = '''유진이는 부산에서 태어났다. 왜냐하면 부산에서 태어난 사람은 일반적으로 대한민국 국민일 것이기 때문이다.\n",
    "다음과 같은 법조항과 규정들을 근거로(국적법). 그래서 그의 부모가 외국인이었거나 그가 귀화한 미국인이 된 경우가 아니라면 유진이는 한국인이다.'''"
   ]
  },
  {
   "cell_type": "code",
   "execution_count": 14,
   "id": "6bec6315",
   "metadata": {},
   "outputs": [
    {
     "name": "stdout",
     "output_type": "stream",
     "text": [
      "Original: 유진이는 부산에서 태어났다. 왜냐하면 부산에서 태어난 사람은 일반적으로 대한민국 국민일 것이기 때문이다.\n",
      "다음과 같은 법조항과 규정들을 근거로(국적법). 그래서 그의 부모가 외국인이었거나 그가 귀화한 미국인이 된 경우가 아니라면 유진이는 한국인이다.\n",
      "주장: 유진이는 한국인이다.\n",
      "반박: 없음\n",
      "자료: 유진이는 부산에서 태어났다.\n",
      "보장: 부산에서 태어난 사람은 일반적으로 대한민국 국민일 것이다.\n",
      "뒷받침: 없음\n",
      "제한 조건: 없음\n",
      "점수: 2\n",
      "피드백: 주장과 자료가 포함되어 있지만, 보장과 뒷받침이 명시적으로 나타나지 않았습니다. 또한 반박이 없으므로 더 강력한 논증을 위해 추가적인 정보나 반박을 고려해 볼 수 있습니다.\n"
     ]
    },
    {
     "data": {
      "text/plain": [
       "{'claim': '유진이는 한국인이다.',\n",
       " 'rebuttal': '',\n",
       " 'data': '유진이는 부산에서 태어났다.',\n",
       " 'warrant': '부산에서 태어난 사람은 일반적으로 대한민국 국민일 것이다.',\n",
       " 'back': '',\n",
       " 'qualify': '',\n",
       " 'score': 2,\n",
       " 'feedback': '주장과 자료가 포함되어 있지만, 보장과 뒷받침이 명시적으로 나타나지 않았습니다. 또한 반박이 없으므로 더 강력한 논증을 위해 추가적인 정보나 반박을 고려해 볼 수 있습니다.'}"
      ]
     },
     "execution_count": 14,
     "metadata": {},
     "output_type": "execute_result"
    }
   ],
   "source": [
    "inspect_data(sents)"
   ]
  },
  {
   "cell_type": "markdown",
   "id": "d9e34a5e",
   "metadata": {},
   "source": [
    "## 네이버 뉴스 기사를 불러와서 질문하기"
   ]
  },
  {
   "cell_type": "code",
   "execution_count": 17,
   "id": "59267d2a",
   "metadata": {},
   "outputs": [],
   "source": [
    "url = 'https://n.news.naver.com/mnews/article/366/0000923133?sid=101'"
   ]
  },
  {
   "cell_type": "code",
   "execution_count": 18,
   "id": "a2312f85",
   "metadata": {},
   "outputs": [],
   "source": [
    "import requests\n",
    "from bs4 import BeautifulSoup\n",
    "\n",
    "def summarize(url=None, text=None):\n",
    "    if (url is None) and (text is None):\n",
    "        print('URL 또는 분석할 텍스트를 입력해 주세요.')\n",
    "        return\n",
    "    \n",
    "    # 현재는 네이버 뉴스 기사만 가지고 옴\n",
    "    if url is not None:\n",
    "        req = requests.get(url)\n",
    "        soup = BeautifulSoup(req.text, \"html.parser\")\n",
    "        text = soup.select_one('article#dic_area.go_trans._article_content').text\n",
    "        text = text.strip()\n",
    "    \n",
    "    # 메시지 설정하기\n",
    "    query = f\"주어진 텍스트의 내용을 요약해 줘. 텍스트:{text}\"\n",
    "    messages = [\n",
    "            {\"role\": \"system\", \"content\": \"You are a helpful assistant.\"},\n",
    "            {\"role\": \"user\", \"content\": query}\n",
    "    ]\n",
    "\n",
    "    # ChatGPT API 호출하기\n",
    "    response = openai.ChatCompletion.create(model=MODEL, messages=messages, temperature=TEMPERATURE)\n",
    "    answer = response.choices[0].message['content']\n",
    "    answer = answer.strip()\n",
    "\n",
    "    print('입력된 텍스트')\n",
    "    print(text)\n",
    "    print('요약:')\n",
    "    print(answer)\n",
    "    \n",
    "    return answer"
   ]
  },
  {
   "cell_type": "code",
   "execution_count": 19,
   "id": "9cd0dafc",
   "metadata": {},
   "outputs": [
    {
     "name": "stdout",
     "output_type": "stream",
     "text": [
      "입력된 텍스트\n",
      "유안타證 “20분 만에 조정 완료…패닉 투매 아냐”        연일 증시를 뜨겁게 달궜던 초전도체주가 급락한 가운데, 전날 초전도체 종목이 일제히 하락한 것이 알고리즘 매매로 의심된다는 분석이 나왔다.9일 유안타증권은 ‘손바뀜도 초전도더라 - 제2의 시타델 DMA 사태 우려’라는 제목의 보고서를 내고 이런 내용을 발표했다. '\n",
      "\n",
      "\n",
      "\n",
      "유안타증권 제공.        고경범 유안타증권 연구원은 “전날 초전도체 관련주는 LK-99가 초전도체가 아니라는 메릴랜드 CMTC의 발표 뉴스로 급락했는데, 주목할 것은 조정보다 ‘진행된 시간’이다”라고 평가했다. 그는 “초전도체 관련주의 조정과 거래량 증가는 2시 이후부터 사실상 20분 만에 완료됐다고 볼 수 있다”라고 분석했다.이어 그는 “특히 2시 12분 경의 매도 주문이 주가 하락에 결정적이었는데, 7거래일 동안 회자된 이슈인 데다가 다수의 개인 투자자 분포를 감안하면 8분의 조정 시간은 극히 짧다”라고 했다.이런 현상을 ‘공황 매도(패닉셀)’로 평가하기에는 한계가 있다고 고 연구원은 설명했다. 그는 “해당 테마로 시세를 견인한 기존 매수자의 매도로 보는 것이 합리적인데, 해당 종목들 대부분은 펀드 기반의 기관과 외국인이 투자하기에는 작은 사이즈의 종목이고 공매도 또한 제한적이기 때문”이라면서 “관련주에서 공통으로 발견되는 짧은 시간의 거래량 폭증과 호가 하락에서 알고리즘 매매와 주로 사용되는 직접시장접근(DMA, Direct Market Acess) 채널 거래가 의심된다”라고 했다.이어 고 연구원은 지난 2017~2018년 발생한 미국 시타델증권의 DMA를 이용한 알고리즘 매매 사례를 언급했다. 지난 2017년 10월부터 2018년 5월까지 미국의 대형 헤지펀드 시타델 계열사 시타델증권은 메릴린치증권 서울 지점을 통해 264종목에 대해 6786회 거래를 한 바 있다. 당시 금융 당국은 시타델증권이 시장 질서를 교란했다고 보고 올해 1월 100억원대 과징금을 부과했다.이들은 컴퓨터가 짧은 시간에 많은 주문을 내는 알고리즘 매매 기법의 일종인 고빈도매매 방식으로 대규모 허수성 주문을 내 호가가 상승하게 한 뒤 단시간에 주문을 취소하는 행위를 반복한 것으로 전해진다. 이 과정에서 주문 소요 시간을 줄이기 위해 DMA 방식을 이용한 것으로 보인다.아울러 고 연구원은 “초전도체 테마주뿐만 아니라 최근 시장 상황을 보면 알고리즘 매매로 의심되는 경우가 자주 보인다”면서 “지난달 26일 2차전지 관련주의 급등락과 지난달 12일 셀트리온 3사 합병 이슈에 따른 급등 사례도 비슷한 맥락”이라고 설명했다.그러면서 그는 “투자자의 리스크 노출이 매 거래일 진행되는 만큼 거래 질서 문란 계좌 지정 등 행정적 조치에 당국이 더욱 과감해질 시점”이라고 했다.초전도체주 급등은 지난달 22일 한국 민간 연구 회사 퀀텀에너지연구소가 온라인 논문 사이트 ‘아카이브’에 상온·상압 초전도체 물질 ‘LK-99′를 만들었다는 내용의 논문을 발표한 게 알려지면서 시작됐다. 전기 저항이 사라지는 초전도체가 상용화되면 거리 상관없이 전력 손실 없이 전기를 보낼 수 있어 에너지 혁명이 일어날 수 있다는 소식에 관련주에 투자 수요가 몰렸다.덕성과 서남등은 3거래일 연속 상한가에 오르기도 했다. 그러나 전날 미국의 한 연구소가 LK-99가 초전도체가 아니라고 밝히자, 관련주는 일제히 급락했다. 덕성과 서남은 하한가를 기록했고, 서원과 파워로직스도 각각 24%, 16%씩 하락했다.\n",
      "요약:\n",
      "유안타증권은 초전도체주의 급락은 알고리즘 매매로 의심된다는 분석을 내놓았다. 초전도체 관련주의 조정은 20분 만에 완료되었으며, 이는 패닉셀로 평가하기에는 짧은 시간이라고 분석되었다. 이러한 현상은 알고리즘 매매와 직접시장접근(DMA) 채널 거래의 의심을 받고 있다. 이와 관련하여 2017~2018년에 발생한 미국 시타델증권의 DMA를 이용한 알고리즘 매매 사례를 언급하였다. 또한, 최근 시장 상황에서도 알고리즘 매매로 의심되는 경우가 자주 보인다고 설명하였다. 이에 따라 당국은 행정적 조치에 대해 고려해야 할 시점이라고 언급하였다. 초전도체주의 급등은 LK-99라는 초전도체 물질에 대한 논문이 발표된 것으로 시작되었으나, 미국의 한 연구소가 LK-99가 초전도체가 아니라고 밝히자, 관련주는 일제히 급락하였다.\n"
     ]
    },
    {
     "data": {
      "text/plain": [
       "'유안타증권은 초전도체주의 급락은 알고리즘 매매로 의심된다는 분석을 내놓았다. 초전도체 관련주의 조정은 20분 만에 완료되었으며, 이는 패닉셀로 평가하기에는 짧은 시간이라고 분석되었다. 이러한 현상은 알고리즘 매매와 직접시장접근(DMA) 채널 거래의 의심을 받고 있다. 이와 관련하여 2017~2018년에 발생한 미국 시타델증권의 DMA를 이용한 알고리즘 매매 사례를 언급하였다. 또한, 최근 시장 상황에서도 알고리즘 매매로 의심되는 경우가 자주 보인다고 설명하였다. 이에 따라 당국은 행정적 조치에 대해 고려해야 할 시점이라고 언급하였다. 초전도체주의 급등은 LK-99라는 초전도체 물질에 대한 논문이 발표된 것으로 시작되었으나, 미국의 한 연구소가 LK-99가 초전도체가 아니라고 밝히자, 관련주는 일제히 급락하였다.'"
      ]
     },
     "execution_count": 19,
     "metadata": {},
     "output_type": "execute_result"
    }
   ],
   "source": [
    "summarize(url)"
   ]
  },
  {
   "cell_type": "markdown",
   "id": "2aaab5aa",
   "metadata": {},
   "source": [
    "## 특정 PDF를 읽어들이고 이에 대해 질문하기"
   ]
  },
  {
   "cell_type": "code",
   "execution_count": 20,
   "id": "c022101f",
   "metadata": {},
   "outputs": [],
   "source": [
    "from PyPDF2 import PdfReader\n",
    "from langchain.document_loaders import PyPDFLoader\n",
    "from langchain.text_splitter import CharacterTextSplitter\n",
    "from langchain import OpenAI\n",
    "from langchain.chains import AnalyzeDocumentChain\n",
    "from langchain.chains.summarize import load_summarize_chain\n",
    "from langchain.vectorstores import Chroma\n",
    "from langchain.embeddings.openai import OpenAIEmbeddings\n",
    "from langchain.chains import ConversationalRetrievalChain\n",
    "from langchain.chat_models import ChatOpenAI"
   ]
  },
  {
   "cell_type": "code",
   "execution_count": 21,
   "id": "ab2eda6e",
   "metadata": {},
   "outputs": [],
   "source": [
    "# 내가 읽고 싶은 파일의 위치를 지정하도록 한다.\n",
    "reader = PdfReader(\"personal/the scientific method as myth and ideal.pdf\")\n",
    "\n",
    "raw_text = \"\"\n",
    "\n",
    "for i, page in enumerate(reader.pages):\n",
    "    text = page.extract_text()\n",
    "    if text:\n",
    "        raw_text += text"
   ]
  },
  {
   "cell_type": "code",
   "execution_count": 23,
   "id": "6364dc2a",
   "metadata": {},
   "outputs": [],
   "source": [
    "llm = OpenAI(temperature=0, openai_api_key = OPENAI_API_KEY)"
   ]
  },
  {
   "cell_type": "code",
   "execution_count": 24,
   "id": "df8f0eb4",
   "metadata": {},
   "outputs": [],
   "source": [
    "summary_chain = load_summarize_chain(llm, chain_type=\"map_reduce\")\n",
    "summarize_document_chain = AnalyzeDocumentChain(combine_docs_chain=summary_chain)"
   ]
  },
  {
   "cell_type": "code",
   "execution_count": 25,
   "id": "e722302f",
   "metadata": {},
   "outputs": [
    {
     "data": {
      "text/plain": [
       "' This article examines the shortcomings of the popularly-taught \"Scientific Method\" and provides corrections to common misconceptions. It looks at the lack of consensus on the method, with different views from Aristotle, Bacon, and Newton, and discusses the classical inductivism view. It also considers the implications for introductory pedagogical contexts, the importance of social dynamics for the scientific enterprise, the role of scientific communities, and the aims, values, and virtues of scientific activity. It suggests that the myth of the scientific method should be discarded, but the ideals associated with it should be promoted.'"
      ]
     },
     "execution_count": 25,
     "metadata": {},
     "output_type": "execute_result"
    }
   ],
   "source": [
    "summarize_document_chain.run(raw_text)"
   ]
  },
  {
   "cell_type": "markdown",
   "id": "c93ebfde",
   "metadata": {},
   "source": [
    "## 여러 개의 파일에 대한 분석"
   ]
  },
  {
   "cell_type": "code",
   "execution_count": 26,
   "id": "8cc1369a",
   "metadata": {
    "scrolled": false
   },
   "outputs": [],
   "source": [
    "loader = PyPDFLoader(\"personal/the scientific method as myth and ideal.pdf\")\n",
    "pages = loader.load_and_split()\n",
    "text_splitter = CharacterTextSplitter(chunk_size=1000, chunk_overlap=100) #chunk overlap seems to work better\n",
    "documents = text_splitter.split_documents(pages)"
   ]
  },
  {
   "cell_type": "code",
   "execution_count": 27,
   "id": "edfd7300",
   "metadata": {},
   "outputs": [
    {
     "name": "stdout",
     "output_type": "stream",
     "text": [
      "You have 29 document(s) in your data\n"
     ]
    }
   ],
   "source": [
    "print (f'You have {len(documents)} document(s) in your data')"
   ]
  },
  {
   "cell_type": "code",
   "execution_count": 30,
   "id": "a481d180",
   "metadata": {},
   "outputs": [],
   "source": [
    "embeddings = OpenAIEmbeddings(model='text-embedding-ada-002', max_retries=20, openai_api_key = OPENAI_API_KEY)\n",
    "vectorstore = Chroma.from_documents(documents, embeddings)\n",
    "model = ChatOpenAI(temperature=TEMPERATURE, model_name=MODEL, openai_api_key = OPENAI_API_KEY)\n",
    "qa = ConversationalRetrievalChain.from_llm(model, vectorstore.as_retriever())"
   ]
  },
  {
   "cell_type": "code",
   "execution_count": 31,
   "id": "a87e535d",
   "metadata": {},
   "outputs": [],
   "source": [
    "def ask(question):\n",
    "    result = qa({\"question\":question, \"chat_history\":[]})\n",
    "    print(result['answer'])\n",
    "    \n",
    "    return result['answer']"
   ]
  },
  {
   "cell_type": "code",
   "execution_count": 32,
   "id": "f26d0fe8",
   "metadata": {},
   "outputs": [
    {
     "name": "stdout",
     "output_type": "stream",
     "text": [
      "논문의 핵심 주장은 \"The Scientiﬁc Method\"라는 개념은 과학적 활동과 추론의 정확한 표현이 아니며, 역사적으로도 현대적으로도 합의된 내용이 없다는 것입니다. 이러한 개념은 과학적 방법론에 대한 오해와 함께 자주 소개되는 오류들을 포함하고 있으며, 이러한 오류들은 과학 교육에 있어서 어떤 결론을 도출해야 하는지에 대한 고려도 포함하고 있습니다.\n"
     ]
    },
    {
     "data": {
      "text/plain": [
       "'논문의 핵심 주장은 \"The Scientiﬁc Method\"라는 개념은 과학적 활동과 추론의 정확한 표현이 아니며, 역사적으로도 현대적으로도 합의된 내용이 없다는 것입니다. 이러한 개념은 과학적 방법론에 대한 오해와 함께 자주 소개되는 오류들을 포함하고 있으며, 이러한 오류들은 과학 교육에 있어서 어떤 결론을 도출해야 하는지에 대한 고려도 포함하고 있습니다.'"
      ]
     },
     "execution_count": 32,
     "metadata": {},
     "output_type": "execute_result"
    }
   ],
   "source": [
    "ask('논문의 핵심 주장이 뭐야?')"
   ]
  },
  {
   "cell_type": "markdown",
   "id": "247d16a1",
   "metadata": {},
   "source": [
    "## 여러 개의 논문을 대상으로 한 분석"
   ]
  },
  {
   "cell_type": "code",
   "execution_count": 34,
   "id": "c0b2c453",
   "metadata": {},
   "outputs": [],
   "source": [
    "from langchain.vectorstores import Chroma\n",
    "from langchain.embeddings.openai import OpenAIEmbeddings\n",
    "from langchain.schema import AIMessage, HumanMessage, SystemMessage"
   ]
  },
  {
   "cell_type": "code",
   "execution_count": 35,
   "id": "a433f697",
   "metadata": {},
   "outputs": [],
   "source": [
    "persist_directory = 'wos_gifted_db'\n",
    "embeddings = OpenAIEmbeddings(model='text-embedding-ada-002', max_retries=20, openai_api_key = OPENAI_API_KEY)\n",
    "vectorstore = Chroma(persist_directory=persist_directory, embedding_function=embeddings)"
   ]
  },
  {
   "cell_type": "code",
   "execution_count": 37,
   "id": "1772af15",
   "metadata": {},
   "outputs": [],
   "source": [
    "model = ChatOpenAI(temperature=TEMPERATURE, model_name=MODEL, openai_api_key = OPENAI_API_KEY)\n",
    "qa = ConversationalRetrievalChain.from_llm(model, vectorstore.as_retriever(search_kwargs={\"k\": 3}), return_source_documents=True)"
   ]
  },
  {
   "cell_type": "code",
   "execution_count": 40,
   "id": "b3d645a4",
   "metadata": {},
   "outputs": [],
   "source": [
    "chat_history = []"
   ]
  },
  {
   "cell_type": "code",
   "execution_count": 39,
   "id": "c12cd0a9",
   "metadata": {},
   "outputs": [],
   "source": [
    "def manage_history(lists):    \n",
    "    tot_size = 0\n",
    "    if len(lists) >= 1:\n",
    "        for item in lists:\n",
    "            tot_size += len(item.content)\n",
    "\n",
    "        if tot_size >= 3000:\n",
    "            lists = lists[2:]  # chat_history 전역 변수를 수정\n",
    "        \n",
    "        return lists\n",
    "    else:\n",
    "        return lists\n",
    "        \n",
    "def questioning(lists, query):\n",
    "    lists = manage_history(lists)\n",
    "    \n",
    "    result = qa({\"question\": query, \"chat_history\": lists})\n",
    "    print(result['answer']) # 응답 출력\n",
    "        \n",
    "    #Reference 출력\n",
    "    refs = []\n",
    "    print('Reference:')\n",
    "    for item in result['source_documents']:\n",
    "        filename_with_extension = os.path.basename(item.metadata['source'])\n",
    "        filename = os.path.splitext(filename_with_extension)[0]\n",
    "        print(filename)\n",
    "        refs.append(filename)\n",
    "        \n",
    "    lists.append(HumanMessage(content=query, additional_kwargs={}, example=False))\n",
    "    lists.append(AIMessage(content=result['answer'], additional_kwargs={'source':refs}, example=False))\n",
    "        \n",
    "    return lists"
   ]
  },
  {
   "cell_type": "code",
   "execution_count": 41,
   "id": "e0883e6c",
   "metadata": {},
   "outputs": [
    {
     "name": "stdout",
     "output_type": "stream",
     "text": [
      "과학영재를 선발할 때 기준은 국가나 기관에 따라 다를 수 있습니다. 일반적으로는 학업 성적, 과학적 업적, 창의력, 문제 해결 능력, 실험 및 연구 경험 등이 고려되는 경우가 많습니다. 또한, 시험이나 면접 등의 절차를 거쳐 선발되기도 합니다. 선발 기준은 각 기관이나 국가의 정책에 따라 다를 수 있으므로, 구체적인 정보를 얻기 위해서는 해당 기관이나 국가의 공식 웹사이트나 관련 담당자에게 문의하는 것이 좋습니다.\n",
      "Reference:\n"
     ]
    }
   ],
   "source": [
    "chat_history = questioning(chat_history, \"과학영재를 선발할 때 기준은 무엇일까?\")"
   ]
  },
  {
   "cell_type": "code",
   "execution_count": 42,
   "id": "eac284dd",
   "metadata": {
    "scrolled": false
   },
   "outputs": [
    {
     "name": "stdout",
     "output_type": "stream",
     "text": [
      "과학영재 교육은 일반적으로 초등학교 중학년부터 시작하는 것이 좋습니다. 이 시기에는 학생들이 기초적인 과학 개념을 이해하고 실험을 통해 문제 해결 능력을 키울 수 있습니다. 그러나 어린이들이 흥미를 가지고 자발적으로 과학에 대해 탐구하는 경우, 더 일찍 시작할 수도 있습니다. 따라서 학생의 흥미와 준비 상태를 고려하여 결정하는 것이 중요합니다.\n",
      "Reference:\n"
     ]
    }
   ],
   "source": [
    "chat_history = questioning(chat_history, \"과학영재 교육은 몇 살 때부터 시작하는 것이 좋을까?\")"
   ]
  },
  {
   "cell_type": "code",
   "execution_count": 43,
   "id": "3546015f",
   "metadata": {},
   "outputs": [
    {
     "name": "stdout",
     "output_type": "stream",
     "text": [
      "과학영재를 선발할 때 고려해야 하는 조건은 다양할 수 있습니다. 일반적으로는 다음과 같은 요소들이 고려될 수 있습니다:\n",
      "\n",
      "1. 학업 성적: 과학 분야에서의 학업 성적이 좋은지 여부를 평가할 수 있습니다.\n",
      "2. 창의성과 독창성: 과학적 문제 해결에 대한 창의적인 사고와 독창성을 가지고 있는지 여부를 평가할 수 있습니다.\n",
      "3. 실험 능력: 실험 설계와 데이터 분석 등 실험 능력을 평가할 수 있습니다.\n",
      "4. 과학적 호기심: 과학에 대한 호기심과 탐구 정신을 가지고 있는지 여부를 평가할 수 있습니다.\n",
      "5. 협력과 팀워크: 과학적인 프로젝트나 연구에서 협력과 팀워크를 잘 할 수 있는지 여부를 평가할 수 있습니다.\n",
      "6. 수상 경력: 과학 분야에서의 수상 경력이 있는지 여부를 평가할 수 있습니다.\n",
      "\n",
      "이 외에도 학교나 기관마다 선발 조건이 다를 수 있으므로, 구체적인 선발 기준은 해당 학교나 기관의 지침을 참고해야 합니다.\n",
      "Reference:\n"
     ]
    }
   ],
   "source": [
    "chat_history = questioning(chat_history, \"과학영재를 선발할 때 고려해야 하는 조건은 무엇일까?\")"
   ]
  },
  {
   "cell_type": "code",
   "execution_count": null,
   "id": "23e92893",
   "metadata": {},
   "outputs": [],
   "source": []
  }
 ],
 "metadata": {
  "kernelspec": {
   "display_name": "Python 3 (ipykernel)",
   "language": "python",
   "name": "python3"
  },
  "language_info": {
   "codemirror_mode": {
    "name": "ipython",
    "version": 3
   },
   "file_extension": ".py",
   "mimetype": "text/x-python",
   "name": "python",
   "nbconvert_exporter": "python",
   "pygments_lexer": "ipython3",
   "version": "3.10.8"
  }
 },
 "nbformat": 4,
 "nbformat_minor": 5
}
